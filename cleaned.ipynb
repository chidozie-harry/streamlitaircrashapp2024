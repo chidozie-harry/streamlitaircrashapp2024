{
 "cells": [
  {
   "cell_type": "code",
   "execution_count": 69,
   "metadata": {},
   "outputs": [],
   "source": [
    "import streamlit as st\n",
    "import numpy as np\n",
    "import pandas as pd \n",
    "import matplotlib.pyplot as plt \n",
    "import seaborn as sns"
   ]
  },
  {
   "cell_type": "code",
   "execution_count": 70,
   "metadata": {},
   "outputs": [],
   "source": [
    "def load_data():\n",
    "    file = 'aircrahesFullDataUpdated_2024.csv'\n",
    "    df = pd.read_csv(file)\n",
    "\n",
    "    return df"
   ]
  },
  {
   "cell_type": "code",
   "execution_count": 71,
   "metadata": {},
   "outputs": [],
   "source": [
    "df = load_data()"
   ]
  },
  {
   "cell_type": "code",
   "execution_count": 72,
   "metadata": {},
   "outputs": [
    {
     "data": {
      "text/html": [
       "<div>\n",
       "<style scoped>\n",
       "    .dataframe tbody tr th:only-of-type {\n",
       "        vertical-align: middle;\n",
       "    }\n",
       "\n",
       "    .dataframe tbody tr th {\n",
       "        vertical-align: top;\n",
       "    }\n",
       "\n",
       "    .dataframe thead th {\n",
       "        text-align: right;\n",
       "    }\n",
       "</style>\n",
       "<table border=\"1\" class=\"dataframe\">\n",
       "  <thead>\n",
       "    <tr style=\"text-align: right;\">\n",
       "      <th></th>\n",
       "      <th>Year</th>\n",
       "      <th>Quarter</th>\n",
       "      <th>Month</th>\n",
       "      <th>Day</th>\n",
       "      <th>Country/Region</th>\n",
       "      <th>Aircraft Manufacturer</th>\n",
       "      <th>Aircraft</th>\n",
       "      <th>Location</th>\n",
       "      <th>Operator</th>\n",
       "      <th>Ground</th>\n",
       "      <th>Fatalities (air)</th>\n",
       "      <th>Aboard</th>\n",
       "    </tr>\n",
       "  </thead>\n",
       "  <tbody>\n",
       "    <tr>\n",
       "      <th>0</th>\n",
       "      <td>1970</td>\n",
       "      <td>Qtr 2</td>\n",
       "      <td>April</td>\n",
       "      <td>28</td>\n",
       "      <td>NaN</td>\n",
       "      <td>de Havilland Canada</td>\n",
       "      <td>de Havilland Canada DHC 6 Twin Otter 100VH</td>\n",
       "      <td>Kainatu</td>\n",
       "      <td>Airlines Australia GuineaTrans New</td>\n",
       "      <td>0</td>\n",
       "      <td>8</td>\n",
       "      <td>11</td>\n",
       "    </tr>\n",
       "    <tr>\n",
       "      <th>1</th>\n",
       "      <td>1952</td>\n",
       "      <td>Qtr 2</td>\n",
       "      <td>April</td>\n",
       "      <td>30</td>\n",
       "      <td>NaN</td>\n",
       "      <td>Douglas</td>\n",
       "      <td>Douglas DC 3VT</td>\n",
       "      <td>Delhi</td>\n",
       "      <td>Airways IndiaDeccan</td>\n",
       "      <td>0</td>\n",
       "      <td>9</td>\n",
       "      <td>9</td>\n",
       "    </tr>\n",
       "    <tr>\n",
       "      <th>2</th>\n",
       "      <td>1973</td>\n",
       "      <td>Qtr 2</td>\n",
       "      <td>April</td>\n",
       "      <td>10</td>\n",
       "      <td>NaN</td>\n",
       "      <td>Vickers Vanguard</td>\n",
       "      <td>Vickers Vanguard 952G AXOP</td>\n",
       "      <td>Near Basel</td>\n",
       "      <td>(UK) Airlines International SwitzerlandInvicta</td>\n",
       "      <td>0</td>\n",
       "      <td>108</td>\n",
       "      <td>145</td>\n",
       "    </tr>\n",
       "    <tr>\n",
       "      <th>3</th>\n",
       "      <td>2000</td>\n",
       "      <td>Qtr 2</td>\n",
       "      <td>April</td>\n",
       "      <td>19</td>\n",
       "      <td>'-</td>\n",
       "      <td>Antonov</td>\n",
       "      <td>Antonov AN 8TL</td>\n",
       "      <td>Pepa  -</td>\n",
       "      <td>Airlines Centrafricain</td>\n",
       "      <td>0</td>\n",
       "      <td>24</td>\n",
       "      <td>24</td>\n",
       "    </tr>\n",
       "    <tr>\n",
       "      <th>4</th>\n",
       "      <td>1946</td>\n",
       "      <td>Qtr 2</td>\n",
       "      <td>April</td>\n",
       "      <td>30</td>\n",
       "      <td>'-</td>\n",
       "      <td>Douglas</td>\n",
       "      <td>Douglas C 47A FZ559</td>\n",
       "      <td>Pindi-Khut  -</td>\n",
       "      <td>Force Air Royal</td>\n",
       "      <td>0</td>\n",
       "      <td>12</td>\n",
       "      <td>12</td>\n",
       "    </tr>\n",
       "  </tbody>\n",
       "</table>\n",
       "</div>"
      ],
      "text/plain": [
       "   Year Quarter  Month  Day Country/Region Aircraft Manufacturer  \\\n",
       "0  1970   Qtr 2  April   28            NaN   de Havilland Canada   \n",
       "1  1952   Qtr 2  April   30            NaN               Douglas   \n",
       "2  1973   Qtr 2  April   10            NaN      Vickers Vanguard   \n",
       "3  2000   Qtr 2  April   19             '-               Antonov   \n",
       "4  1946   Qtr 2  April   30             '-               Douglas   \n",
       "\n",
       "                                     Aircraft       Location  \\\n",
       "0  de Havilland Canada DHC 6 Twin Otter 100VH        Kainatu   \n",
       "1                              Douglas DC 3VT          Delhi   \n",
       "2                  Vickers Vanguard 952G AXOP     Near Basel   \n",
       "3                              Antonov AN 8TL        Pepa  -   \n",
       "4                         Douglas C 47A FZ559  Pindi-Khut  -   \n",
       "\n",
       "                                         Operator  Ground  Fatalities (air)  \\\n",
       "0              Airlines Australia GuineaTrans New       0                 8   \n",
       "1                             Airways IndiaDeccan       0                 9   \n",
       "2  (UK) Airlines International SwitzerlandInvicta       0               108   \n",
       "3                          Airlines Centrafricain       0                24   \n",
       "4                                 Force Air Royal       0                12   \n",
       "\n",
       "   Aboard  \n",
       "0      11  \n",
       "1       9  \n",
       "2     145  \n",
       "3      24  \n",
       "4      12  "
      ]
     },
     "execution_count": 72,
     "metadata": {},
     "output_type": "execute_result"
    }
   ],
   "source": [
    "df.head()"
   ]
  },
  {
   "cell_type": "code",
   "execution_count": 73,
   "metadata": {},
   "outputs": [
    {
     "name": "stdout",
     "output_type": "stream",
     "text": [
      "<class 'pandas.core.frame.DataFrame'>\n",
      "RangeIndex: 5035 entries, 0 to 5034\n",
      "Data columns (total 12 columns):\n",
      " #   Column                 Non-Null Count  Dtype \n",
      "---  ------                 --------------  ----- \n",
      " 0   Year                   5035 non-null   int64 \n",
      " 1   Quarter                5035 non-null   object\n",
      " 2   Month                  5035 non-null   object\n",
      " 3   Day                    5035 non-null   int64 \n",
      " 4   Country/Region         4805 non-null   object\n",
      " 5   Aircraft Manufacturer  5035 non-null   object\n",
      " 6   Aircraft               5035 non-null   object\n",
      " 7   Location               5035 non-null   object\n",
      " 8   Operator               4801 non-null   object\n",
      " 9   Ground                 5035 non-null   int64 \n",
      " 10  Fatalities (air)       5035 non-null   int64 \n",
      " 11  Aboard                 5035 non-null   int64 \n",
      "dtypes: int64(5), object(7)\n",
      "memory usage: 472.2+ KB\n"
     ]
    }
   ],
   "source": [
    "df.info()"
   ]
  },
  {
   "cell_type": "code",
   "execution_count": 74,
   "metadata": {},
   "outputs": [],
   "source": [
    "# Step 1:  Handling Missing Values and Standardizing Entries\n",
    "\n",
    "# Replace '-' with NaN in 'Country/Region'\n",
    "df['Country/Region'] = df['Country/Region'].replace('-', pd.NA)\n",
    "\n",
    "# Fill missing values in 'Country/Region' and 'Operator' with 'Unknown'\n",
    "df['Country/Region'] = df['Country/Region'].fillna('Unknown')\n",
    "df['Operator'] = df['Operator'].fillna('Unknown')"
   ]
  },
  {
   "cell_type": "code",
   "execution_count": 75,
   "metadata": {},
   "outputs": [],
   "source": [
    "# Step 2: Trim and Clean Text Fields\n",
    "# Columns to clean: 'Country/Region', 'Aircraft', 'Location', 'Operator'\n",
    "df['Country/Region'] = df['Country/Region'].str.strip().str.title()\n",
    "df['Aircraft Manufacturer'] = df['Aircraft Manufacturer'].str.strip().str.title()\n",
    "df['Aircraft'] = df['Aircraft'].str.strip()\n",
    "df['Location'] = df['Location'].str.strip()\n",
    "df['Operator'] = df['Operator'].str.strip()"
   ]
  },
  {
   "cell_type": "code",
   "execution_count": 76,
   "metadata": {},
   "outputs": [],
   "source": [
    "# Step 3: Convert 'Quarter' and 'Month' to categorical data types\n",
    "df['Quarter'] = pd.Categorical(df['Quarter'], categories=['Qtr 1', 'Qtr 2', 'Qtr 3', 'Qtr 4'])\n",
    "df['Month'] = pd.Categorical(df['Month'], categories=[\n",
    "    'January', 'February', 'March', 'April', 'May', 'June',\n",
    "    'July', 'August', 'September', 'October', 'November', 'December'])"
   ]
  },
  {
   "cell_type": "code",
   "execution_count": 77,
   "metadata": {},
   "outputs": [],
   "source": [
    "# Step 4: Handling Outliers\n",
    "# Calculate the interquartile range (IQR) for 'Ground' and 'Fatalities (air)' to detect outliers\n",
    "Q1_ground = df['Ground'].quantile(0.25)\n",
    "Q3_ground = df['Ground'].quantile(0.75)\n",
    "IQR_ground = Q3_ground - Q1_ground\n",
    "\n",
    "Q1_fatalities = df['Fatalities (air)'].quantile(0.25)\n",
    "Q3_fatalities = df['Fatalities (air)'].quantile(0.75)\n",
    "IQR_fatalities = Q3_fatalities - Q1_fatalities\n",
    "\n",
    "# Define outlier bounds\n",
    "lower_bound_ground = Q1_ground - 1.5 * IQR_ground\n",
    "upper_bound_ground = Q3_ground + 1.5 * IQR_ground\n",
    "\n",
    "lower_bound_fatalities = Q1_fatalities - 1.5 * IQR_fatalities\n",
    "upper_bound_fatalities = Q3_fatalities + 1.5 * IQR_fatalities\n",
    "\n",
    "# Cap outliers in 'Ground' and 'Fatalities (air)'\n",
    "df['Ground'] = df['Ground'].clip(lower=lower_bound_ground, upper=upper_bound_ground)\n",
    "df['Fatalities (air)'] = df['Fatalities (air)'].clip(lower=lower_bound_fatalities, upper=upper_bound_fatalities)"
   ]
  },
  {
   "cell_type": "code",
   "execution_count": 78,
   "metadata": {},
   "outputs": [],
   "source": [
    "# Step 5: Check for Duplicates\n",
    "duplicate_rows = df.duplicated().sum()\n",
    "\n",
    "# If any duplicates are found, remove them\n",
    "df.drop_duplicates(inplace=True)"
   ]
  },
  {
   "cell_type": "code",
   "execution_count": 79,
   "metadata": {},
   "outputs": [
    {
     "name": "stdout",
     "output_type": "stream",
     "text": [
      "<class 'pandas.core.frame.DataFrame'>\n",
      "RangeIndex: 5035 entries, 0 to 5034\n",
      "Data columns (total 12 columns):\n",
      " #   Column                 Non-Null Count  Dtype   \n",
      "---  ------                 --------------  -----   \n",
      " 0   Year                   5035 non-null   int64   \n",
      " 1   Quarter                5035 non-null   category\n",
      " 2   Month                  5035 non-null   category\n",
      " 3   Day                    5035 non-null   int64   \n",
      " 4   Country/Region         5035 non-null   object  \n",
      " 5   Aircraft Manufacturer  5035 non-null   object  \n",
      " 6   Aircraft               5035 non-null   object  \n",
      " 7   Location               5035 non-null   object  \n",
      " 8   Operator               5035 non-null   object  \n",
      " 9   Ground                 5035 non-null   int64   \n",
      " 10  Fatalities (air)       5035 non-null   float64 \n",
      " 11  Aboard                 5035 non-null   int64   \n",
      "dtypes: category(2), float64(1), int64(4), object(5)\n",
      "memory usage: 403.9+ KB\n"
     ]
    }
   ],
   "source": [
    "df.info()"
   ]
  },
  {
   "cell_type": "markdown",
   "metadata": {},
   "source": [
    "# RESEARCH QUESTION\n",
    "1. How has the number of air crashes evolved over time:\n",
    "This question examines the trend in the frequency of air crashes over various years. By analyzing yearly crash data, we can identify whether crashes have increased or decreased over time, helping to understand patterns or impacts of safety improvements.\n",
    "2. Which aircrafts has experienced the highest number of crashes\n",
    "This question focuses on identifying aircraft models or manufacturers that have had the highest number of crashes. By analyzing the data, we can pinpoint which aircraft are involved in more crashes, which may indicate potential design or operational issues.\n",
    "3.  Aircraft and Operator Analysis:\n",
    "Which aircraft manufacturers are most frequently involved in crashes?\n",
    "Feature: A bar chart showing the top 10 aircraft manufacturers with the most crashes.\n",
    "Importance: Identifying which manufacturers have higher crash rates can be crucial for understanding potential safety concerns related to specific aircraft types.\n",
    "4. Safety and Prevention:\n",
    "Has aircraft safety improved over time based on fatality rates?\n",
    "Feature: A line chart comparing the number of fatalities over time.\n",
    "Importance: This analysis can show whether improvements in aviation safety technology and regulations have effectively reduced fatality rates.\n",
    "  "
   ]
  },
  {
   "cell_type": "code",
   "execution_count": 93,
   "metadata": {},
   "outputs": [
    {
     "data": {
      "text/plain": [
       "DeltaGenerator()"
      ]
     },
     "execution_count": 93,
     "metadata": {},
     "output_type": "execute_result"
    }
   ],
   "source": [
    "import pandas as pd\n",
    "import matplotlib.pyplot as plt\n",
    "import streamlit as st\n",
    "\n",
    "# Load dataset\n",
    "df = pd.read_csv('aircrahesFullDataUpdated_2024.csv')\n",
    "df = load_data()\n",
    "\n",
    "# Title of the app\n",
    "st.title('Aircraft Crashes Data Explorer')\n",
    "\n",
    "\n",
    "\n",
    "# Group by year and count crashes\n",
    "accidents_per_year = df['Year'].value_counts().sort_index()\n",
    "\n",
    "# Plot in Streamlit\n",
    "st.subheader('Air Crashes Over Time')\n",
    "st.line_chart(accidents_per_year)\n",
    "\n",
    "\n"
   ]
  },
  {
   "cell_type": "code",
   "execution_count": 82,
   "metadata": {},
   "outputs": [
    {
     "data": {
      "text/plain": [
       "DeltaGenerator()"
      ]
     },
     "execution_count": 82,
     "metadata": {},
     "output_type": "execute_result"
    }
   ],
   "source": [
    "# Count crashes by airline\n",
    "airline_crashes = df['Airline'].value_counts().head(10)\n",
    "\n",
    "# Plot in Streamlit\n",
    "st.subheader('Top 10 Airlines with Highest Number of Crashes')\n",
    "st.bar_chart(airline_crashes)\n",
    "\n",
    "\n"
   ]
  },
  {
   "cell_type": "code",
   "execution_count": 91,
   "metadata": {},
   "outputs": [
    {
     "data": {
      "text/plain": [
       "DeltaGenerator()"
      ]
     },
     "execution_count": 91,
     "metadata": {},
     "output_type": "execute_result"
    }
   ],
   "source": [
    "import matplotlib.pyplot as plt\n",
    "import pandas as pd\n",
    "import streamlit as st\n",
    "\n",
    "# Assuming the dataset is already loaded into df\n",
    "st.header('Top 10 Aircraft Manufacturers Involved in Crashes')\n",
    "\n",
    "# Get the top 10 aircraft manufacturers involved in crashes\n",
    "top_manufacturers = df['Aircraft Manufacturer'].value_counts().head(10)\n",
    "\n",
    "# Plotting the bar chart\n",
    "plt.figure(figsize=(10, 6))\n",
    "top_manufacturers.plot(kind='bar', color='orange')\n",
    "plt.title('Top 10 Aircraft Manufacturers Involved in Crashes')\n",
    "plt.xlabel('Aircraft Manufacturer')\n",
    "plt.ylabel('Number of Crashes')\n",
    "\n",
    "# Show plot in Streamlit\n",
    "st.pyplot(plt)\n"
   ]
  },
  {
   "cell_type": "code",
   "execution_count": 84,
   "metadata": {},
   "outputs": [
    {
     "data": {
      "text/plain": [
       "False"
      ]
     },
     "execution_count": 84,
     "metadata": {},
     "output_type": "execute_result"
    }
   ],
   "source": [
    "# 5. Fatalities Over Time\n",
    "st.header('Fatalities Over Time')\n",
    "fatalities_per_year = df.groupby('Year')['Fatalities (air)'].sum()\n",
    "plt.figure(figsize=(10, 6))\n",
    "plt.plot(fatalities_per_year.index, fatalities_per_year.values, marker='o', linestyle='-', color='r')\n",
    "plt.title('Total Fatalities per Year')\n",
    "plt.xlabel('Year')\n",
    "plt.ylabel('Total Fatalities')\n",
    "st.pyplot(plt)\n",
    "\n",
    "# Option to download the filtered data\n",
    "st.header('Download the filtered data')\n",
    "st.write(\"You can download the filtered dataset as a CSV file.\")\n",
    "csv = df.to_csv(index=False).encode('utf-8')\n",
    "st.download_button(label=\"Download CSV\", data=csv, file_name='filtered_aircrashes_data.csv', mime='text/csv')"
   ]
  },
  {
   "cell_type": "code",
   "execution_count": null,
   "metadata": {},
   "outputs": [],
   "source": []
  }
 ],
 "metadata": {
  "kernelspec": {
   "display_name": "base",
   "language": "python",
   "name": "python3"
  },
  "language_info": {
   "codemirror_mode": {
    "name": "ipython",
    "version": 3
   },
   "file_extension": ".py",
   "mimetype": "text/x-python",
   "name": "python",
   "nbconvert_exporter": "python",
   "pygments_lexer": "ipython3",
   "version": "3.12.4"
  }
 },
 "nbformat": 4,
 "nbformat_minor": 2
}
